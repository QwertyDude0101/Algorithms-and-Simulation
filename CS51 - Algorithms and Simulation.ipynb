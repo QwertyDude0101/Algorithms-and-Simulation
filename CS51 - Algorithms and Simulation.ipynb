{
 "cells": [
  {
   "cell_type": "markdown",
   "metadata": {},
   "source": [
    "# CS51 - Algorithms and Simulation"
   ]
  },
  {
   "cell_type": "markdown",
   "metadata": {},
   "source": [
    "# <font size=\"5\"> by César Emanuel Castro García</font>"
   ]
  },
  {
   "cell_type": "markdown",
   "metadata": {
    "colab_type": "text",
    "id": "xaerXUudi9pO"
   },
   "source": [
    "<div class=\"alert alert-block alert-success\">\n",
    "<b> <font size=\"5\">Part I: Genetic Regression Algorithm</font></b> \n",
    "</div>"
   ]
  },
  {
   "cell_type": "markdown",
   "metadata": {},
   "source": [
    "The following notebook contains a set of python functions that attempt to use a **genetic algorithm** to find the **regression line** for a dataset by looking for the two coefficients _**(m, b)**_ of the line of best fit. For each function, there is in-line comments and brief descriptions explaining what the function does step-by-step, and the roles they play in the genetic algorithm."
   ]
  },
  {
   "cell_type": "markdown",
   "metadata": {},
   "source": [
    "<div class=\"alert alert-block alert-warning\">\n",
    "<b>1. Function Description</b> \n",
    "</div>"
   ]
  },
  {
   "cell_type": "markdown",
   "metadata": {
    "colab_type": "text",
    "id": "2r8WRqUvi9pP"
   },
   "source": [
    "##### 1.1. Commenting Algorithm\n",
    "- For each of the functions, I have added in-line comments to explain what the code is doing line-by-line. In addition to in-line comments, I have written a few sentences that address the identification of the aspect of a genetic algorithm that the function pertains to and explained why this aspect is important for optimization, described how the function accomplishes its task, and specified the inputs, outputs, and any major data structures involved.  \n",
    "\n",
    "##### 1.2. Finalizing Algorithm\n",
    "- Using a process of elimination to determine, then describe, which common element of a genetic algorithm is needed in this program, I created function F. I detailed why this element of the algorithm is important for finding an optimal solution. Then, filled in function F with working code that accomplishes this task and explained how it works.\n",
    "\n",
    "##### 1.3. Genetic Algorithm\n",
    "- For the commenting of the python script, I considered the main program portion of the code and added comments and explained what this part does and how it connects to the functions."
   ]
  },
  {
   "cell_type": "markdown",
   "metadata": {},
   "source": [
    "### BACKBONE OF THE ALGORITHM"
   ]
  },
  {
   "cell_type": "code",
   "execution_count": 61,
   "metadata": {
    "colab": {},
    "colab_type": "code",
    "id": "btPK66Coi9pQ"
   },
   "outputs": [],
   "source": [
    "# Genetic algorithm to fit a regression line of the \n",
    "# form y = mx + b to a 2-variable dataset.\n",
    "\n",
    "import random \n",
    "# The random module is a library of functions that is built into python. \n",
    "# The line of code \"import random\" is needed to get access to it. \n",
    "import numpy as np \n",
    "# The numpy package is fundamental for scientific computing, \n",
    "# the line of code \"import numpy as np\" is needed to get access to it \n",
    "# and to call it further in the script as only \"np\".\n",
    "\n",
    "# Load the data\n",
    "my_data_file = 'temp_data.npy' # By using the equal operator, this line of code assigns the \"temp_data.npy\" \n",
    "                               # to the variable \"my_data_file\"\n",
    "\n",
    "data = np.load(my_data_file) # By using the equal operator, this line of code assigns \"np.load(my_data_file)\"\n",
    "                             # to the variable \"data\". Also, np.load helps to load arrays or pickled objects\n",
    "                             # from .npy, .npz or pickled files, such as the \"my_data_file\" which is an .npy file\n",
    "\n",
    "# Parameters\n",
    "initial_pop_size = 1000 # Using the equal operator assigns a specific value to the variable \"initial_pop_size\"\n",
    "mutation_rate = 0.30    # Using the equal operator assigns a specific value to the variable \"mutation_rate\"\n",
    "num_generations = 10    # Using the equal operator assigns a specific value to the variable \"num_generations\"\n",
    "chromosome_length = 2   # Using the equal operator assigns a specific value to the variable \"chromosome_length\"\n",
    "num_survivors = 200     # Using the equal operator assigns a specific value to the variable \"num_survivors\""
   ]
  },
  {
   "cell_type": "markdown",
   "metadata": {},
   "source": [
    "The aspect of a genetic algorithm that this part pertains to is importing relevant libraries, loading the data, and giving specific values to the parameters needed for the genetic algorithm. This is important for optimization because the libraries functions allow us to do different computations and calculations. It accomplishes it task by running through the code which without this everything else doesn't work. This part is not a function, so it doesn't really get inputs, and doesn't provide any outputs."
   ]
  },
  {
   "cell_type": "markdown",
   "metadata": {},
   "source": [
    "### CREATING A RANDOM SAMPLE POPULATION"
   ]
  },
  {
   "cell_type": "code",
   "execution_count": 62,
   "metadata": {
    "colab": {},
    "colab_type": "code",
    "id": "pgSADUyoi9pU"
   },
   "outputs": [],
   "source": [
    "def A(): # This line of code \"def A():\" does several things,\n",
    "         # for one \"def\" is short for define and basically defines the function \n",
    "         # then, A is function name and the parenthesis will contain the \n",
    "         # parameters every time the function is called, however in this case\n",
    "         # no positional values are needed, just for the function to be called.\n",
    "\n",
    "    gene_pool = np.linspace(-1,80,num = 5000) # Using the equal operator assigns \"np.linspace(-1,80,num = 5000)\" to \n",
    "                                              # the variable \"gene_pool\". Also, the function \"linspace\" in the \"numpy\"\n",
    "                                              # or \"np\" library returns evenly spaced numbers given by \"num = 5000\"\n",
    "                                              # and has starting value: \"-1\" and an end value: \"80\"\n",
    "    \n",
    "    dimensions = (initial_pop_size, chromosome_length) \n",
    "    # Using the equal operator assigns \"(initial_pop_size, chromosome_length)\" to\n",
    "    # the variable \"dimensions\". Also, a 2-tuple is given because \"dimensions\"\n",
    "    # will be used as the parameter \"size\" in \"np.random.choice\" where there will\n",
    "    # be samples drawn based on the values of these (the product).\n",
    "    \n",
    "    return np.random.choice(gene_pool, size=dimensions, replace=False)\n",
    "    # The \"return\" function is used here as the final purpose of \"A\"\n",
    "    # since when one calls \"A\", this line of code will tell it what to do.\n",
    "    # Also, \"np.random.choice\" here generates the random sample based on\n",
    "    # the \"gene_pool\" array and \"replace\" determines the sample is without replacement."
   ]
  },
  {
   "cell_type": "markdown",
   "metadata": {
    "colab_type": "text",
    "id": "wiL8sE9Qi9pX"
   },
   "source": [
    "The goal of this function is to initialize a random list of candidate solutions from $5,000$ equal spaced numbers between $-1$ and $80$. With such a large population to choose from we can have a good enough variance in the first generations. From this population, it randomly selects our first generation according to the given parameter size without any repetition. If we would allow replacement from the to-be-chosen elements, we would choose _$True$_ rather than _$False$_ on the return line. Function A takes no input and outputs a two dimensional array of $100$ tuples of the form $(m, b)$ where the first element is the $slope$ and the second element is the $y-intercept$."
   ]
  },
  {
   "cell_type": "markdown",
   "metadata": {},
   "source": [
    "### EVALUATION OF THE FITNESS VALUE OF AN ARRAY"
   ]
  },
  {
   "cell_type": "code",
   "execution_count": 63,
   "metadata": {
    "colab": {},
    "colab_type": "code",
    "id": "BbTmkKXWi9pY"
   },
   "outputs": [],
   "source": [
    "def B(coefficients): # This line of code \"def B(coefficients):\" takes one positional argument,\n",
    "                     # \"def\" is short for define and defines the function \n",
    "                     # B is function name and the parenthesis will contain the \n",
    "                     # parameters every time the function is called. \n",
    "\n",
    "    k = len(data) # Using the equal operator assigns \"len(data)\" to the variable \"k\"\n",
    "                  # also, len returns an integer which is the number of values\n",
    "                  # in the 'temp_data.npy'\n",
    "\n",
    "    tot = 0 # Using the equal operator assigns the value of \"0\" to the variable \"tot\"\n",
    "            # and later into the function, \"tot\" which is short for total will have a greater value\n",
    "\n",
    "\n",
    "\n",
    "## FORMULA FOR CALCULATING THE FITNESS (THE LOWER IT IS, THE BETTER OUR PREDICTED VALUE)\n",
    "    for j in range(k): # Here, the for loop with range helps to procede with the following calculations:\n",
    "                       # for the range function we have the maximum value that in here is \"k\"\n",
    "                       # here \"j\" is a variable to talk in general about the values found here.\n",
    "        \n",
    "        y = coefficients[0] * data[j,0] + coefficients[1]\n",
    "        # Here we find the formula in the form of \"y = mx + b\", where the coefficients are [m, b]\n",
    "        # which are the ones that are going to be checked for their error with tot/k\n",
    "        \n",
    "        res = data[j,1] - y \n",
    "        # Here \"res\" is short for \"residual\" which is needed for the calculation of the fitness value.\n",
    "        \n",
    "        tot += res**2 \n",
    "        # Here the residuals are squared because some might be positive and some might be negative.\n",
    "\n",
    "    return tot/k\n",
    "    # Finally tot/k is the needed calculation for the error."
   ]
  },
  {
   "cell_type": "markdown",
   "metadata": {
    "colab_type": "text",
    "id": "Pp1T_mFCi9pb"
   },
   "source": [
    "The goal of this function is to give the expected error or in other words the fitness value. This fitness value allows us to determine the better candidate solutions and to select the survivors. Using the $slope$, $y-intercept$ value, and $x$ from the data set, it calculates the predicted $y$ by the equation and measures its difference from the observed $y$ value given in the dataset. Then it calculates the variance, the average squared sum of the error. The fitness value is the error, so the less it is the better the candidate solution. The input it takes is the candidate solution which is an array of $2$ element in the form of $(m, b)$. The output that it returns is $\\frac{SSE}{n}$ which is its fitness value."
   ]
  },
  {
   "cell_type": "markdown",
   "metadata": {},
   "source": [
    "### CREATION OF NEW LIST WITH FITNESS VALUE"
   ]
  },
  {
   "cell_type": "code",
   "execution_count": 64,
   "metadata": {
    "colab": {},
    "colab_type": "code",
    "id": "xtJndQcWi9pc"
   },
   "outputs": [],
   "source": [
    "def C(): # This line of code \"def C():\" takes no positional argument,\n",
    "         # \"def\" is short for define and defines the function \n",
    "         # C is function name and the parenthesis will contain the \n",
    "         # parameters every time the function is called, however in this case\n",
    "         # no positional values are needed. Just the function needs to be called.\n",
    "\n",
    "    fitlist = []\n",
    "    # Using the equal operator this assigns an empty list to the variable \"fitlist\"\n",
    "    \n",
    "    q = len(current_pop)\n",
    "    # Using the equal operator this assigns \"len(current_pop)\" to the variable \"q\"\n",
    "    # len returns an integer which is the number of values in \"current_pop\"\n",
    "\n",
    "                # Here I would like to [footnote] #organization because aiming to organize the code\n",
    "                # in a way that is easier to understand and remember, I decided that this would look\n",
    "                # better organized.\n",
    "    \n",
    "    for x in range(q):\n",
    "    # Here, the for loop with range helps to procede with the following calculations:\n",
    "    # for the range function we have the maximum value that in here is \"q\" [See previous comment]\n",
    "    # here \"x\" is a variable to talk in general about the values found here.   \n",
    "    \n",
    "        fitlist.append(np.array([x,B(current_pop[x])]))\n",
    "        # This line of code does different things at different scales and levels of analysis,\n",
    "        # at first it uses the append() method to append an element to the end of the list \"fitlist\"\n",
    "        # next, it uses np.array to create an array with the following:\n",
    "        # the variable \"x\" and the result of the previous function \"B\" when the \n",
    "        # coefficient is current_pop[x]\n",
    "        \n",
    "    return np.array(fitlist)\n",
    "    # Finally, the \"return\" function is used here as the sole reason of \"C\"\n",
    "    # since when one calls \"C\", this line of code will tell it what to do.\n",
    "    # Here \"np.array\" creates an array with the list \"fitlist\""
   ]
  },
  {
   "cell_type": "markdown",
   "metadata": {
    "colab_type": "text",
    "id": "omKXqXQPi9pf"
   },
   "source": [
    "The goal of this function is to create a new list of the fitness values of all candidate solutions of the current population into the fitlist. This will also be useful in the next function in identifying index. It creates an empty array. Then for each candidate solution of the current population, it creates their fitness value and stores them in the empty array according to their initial index. This function takes no input and outputs a two dimensional array with the same row size of the current population. Each of these rows have the same index as the candidate solution and its respective fitness value."
   ]
  },
  {
   "cell_type": "markdown",
   "metadata": {},
   "source": [
    "### SELECTION OF SURVIVORS (BEST CANDIDATE)"
   ]
  },
  {
   "cell_type": "code",
   "execution_count": 65,
   "metadata": {
    "colab": {},
    "colab_type": "code",
    "id": "R7akJrFxi9pg"
   },
   "outputs": [],
   "source": [
    "def D(): # This line of code \"def D():\" takes no positional argument,\n",
    "         # \"def\" is short for define and defines the function \n",
    "         # D is function name and the parenthesis will contain the \n",
    "         # parameters every time the function is called, however in this case\n",
    "         # no positional values are needed. Just the function needs to be called.    \n",
    "    \n",
    "    p = len (fitness_vector)\n",
    "    # Using the equal operator assigns \"len (fitness_vector)\" to the variable p\n",
    "    # to make my algorithm more organized and neat.\n",
    "    \n",
    "    random_selection = np.random.choice(range(p), num_survivors//2, replace=False)\n",
    "    # Using the equal operator assigns \"np.random.choice\" that generates the random sample (array) based on\n",
    "    # the range of \"p\" and \"replace\" determines the sample is without replacement (it will not take any value\n",
    "    # repeatedly).\n",
    "    \n",
    "    best = np.argmin(fitness_vector[random_selection,1])\n",
    "    # Using the equal operator assigns the np.argmin which returns the indices of\n",
    "    # the minimum values along an axis.\n",
    "\n",
    "    best_index = random_selection[best]\n",
    "    # Using the equal operator assigns random_selection[best] to the variable\n",
    "    # \"best_index\"\n",
    "\n",
    "    return current_pop[int(fitness_vector[best_index][0])]\n",
    "    # This will be what will be returned when the function \"D\" is called."
   ]
  },
  {
   "cell_type": "markdown",
   "metadata": {
    "colab_type": "text",
    "id": "MqIN7T8Ci9pi"
   },
   "source": [
    "This function gives the best candidate solution when you input an array into it. Every time the whole genetic algorithm runs it will give a different _best candidate_. It randomly chooses some elements and finds the most fitted candidate solution among them. This random selection increases the probability of survivor for the most fitted solutions but also give space for some variations. The reason why we randomly choose is because we want to maintain this diversity in the population that the function will produce. Among these candidate solutions, it finds the one with the least fitness value and outputs it. It takes no input and outputs the candidate solution for which the fitness value is the minimum."
   ]
  },
  {
   "cell_type": "markdown",
   "metadata": {},
   "source": [
    "### CREATING NEW POPULATION BY DUPLICATING SURVIVORS "
   ]
  },
  {
   "cell_type": "code",
   "execution_count": 66,
   "metadata": {
    "colab": {},
    "colab_type": "code",
    "id": "ZahYoYiSi9pj"
   },
   "outputs": [],
   "source": [
    "def E():\n",
    "# Creates a new generation (an array of arrays) by duplicating the survivors.\n",
    "    \n",
    "    duplicate_size = len(new_population) - len(survivors)\n",
    "    # Calculating how many more candidate solution needed to generate beside the survivors\n",
    "    # in order to complete the next generation (array of arrays).\n",
    "    \n",
    "    duplicate_survivors = np.zeros((duplicate_size, chromosome_length))\n",
    "    # Creates the necessary number of new arrays in which every value is 0.\n",
    "    \n",
    "    for x in range(chromosome_length): \n",
    "    # For each column in the survivor array, the following will happen:\n",
    "                \n",
    "        duplicate_survivors[:, x] = np.repeat(survivors[:, x], 4, axis=0) \n",
    "        # Duplicate column 4 times.     \n",
    "        \n",
    "        duplicate_survivors[:, x] = np.random.permutation(duplicate_survivors[:, x])\n",
    "        # Make a random permutation of the candidate solutions of the new generations.\n",
    "        \n",
    "    return duplicate_survivors\n",
    "    # Returns the new generation."
   ]
  },
  {
   "cell_type": "markdown",
   "metadata": {
    "colab_type": "text",
    "id": "-Ezqn5f-i9po"
   },
   "source": [
    "The goal of this function is it to generate a new population by duplicating the survivors. It helps to build new generations where only the most fitted values are represented. It increases the probability to find the best solution despite decreasing variation. It repeatedly copies the survivor solutions, and shuffles the values inside the array to ensure randomization. It takes no input and outputs the generated array of duplicate survivors."
   ]
  },
  {
   "cell_type": "markdown",
   "metadata": {},
   "source": [
    "### MUTATING THE POPULATION"
   ]
  },
  {
   "cell_type": "code",
   "execution_count": 67,
   "metadata": {
    "colab": {},
    "colab_type": "code",
    "id": "-peBLqMji9pp"
   },
   "outputs": [],
   "source": [
    "def F(array):\n",
    "# Tweaks a randomly selected value to bring variations in population.\n",
    "    \n",
    "    mutation_size = int(len(array)*mutation_rate)\n",
    "    # Determines the size of mutated candidate solutions\n",
    "    # by using the mutation rate of the population.\n",
    "    \n",
    "    mutation_selection = np.random.choice(range(len(array)), mutation_size, replace=False)\n",
    "    # Randomly select 'mutation_size' number of indexes of the cuurrent population\n",
    "    # to tweak the candidate solutions of those indexes.\n",
    "    \n",
    "    mutation_pop = array\n",
    "    # Copy the given population in the mutation population.\n",
    "    \n",
    "    for i in mutation_selection:\n",
    "    # For each randomly selected index.\n",
    "        \n",
    "        mutation_pop[i] = [array[i][1],array[i][0]]  \n",
    "        # Swap the two values of the candidate solution.\n",
    "    \n",
    "    return mutation_pop\n",
    "    # Returns the mutated population."
   ]
  },
  {
   "cell_type": "markdown",
   "metadata": {
    "colab_type": "text",
    "id": "O6JL7-QCi9ps"
   },
   "source": [
    "The major elements of a Genetic Algorithm are Population Initialization, Fitness Function Calculation, Crossover or Mutation, Survivor Selection, New Generation, and a Termination Condition. Function A works for Population Initialization, Function B is the Fitness Function, Function C works to store the Fitness Values, Function D does Survivor Selection, and Function E creates New Generations. So, the missing important element is Mutation or Crossover. One of our given parameters is mutation rate so we can use it to do mutation with Function F. Mutation is the process of tweaking the values of some randomly selected values. This creates explorations and variations in the population space. Mutation ensures the existence of other solutions with the most fitted values which mitigate the probability of getting stuck in a local optimum. This function randomly selects some integers in the range of population size. Then it swaps the $(m, b)$ values of the candidate solutions whose indexes are equal to these randomly selected integers. It takes the population array as an input and outputs the population array with some randomly mutated candidate solutions."
   ]
  },
  {
   "cell_type": "markdown",
   "metadata": {},
   "source": [
    "### MAIN PROGRAM: BEST SOLUTION"
   ]
  },
  {
   "cell_type": "code",
   "execution_count": 68,
   "metadata": {
    "colab": {},
    "colab_type": "code",
    "id": "ejgKKFfXi9pt"
   },
   "outputs": [
    {
     "name": "stdout",
     "output_type": "stream",
     "text": [
      "The best solution is [ 0.28005601 73.21084217]\n",
      "with error equal to approximately 39.38772750501804\n"
     ]
    }
   ],
   "source": [
    "# Start of main program\n",
    "\n",
    "current_pop = A()\n",
    "# List of the current population, which initializes a new population using our previously created function.\n",
    "\n",
    "new_population = np.zeros((num_survivors * 5, chromosome_length))\n",
    "# New population, filled with zeros, by pasting all survivors 5 times each. The chromosome-length\n",
    "# determines how many columns to have.\n",
    "\n",
    "# Main Loop\n",
    "for i in range(num_generations):\n",
    "# Iterates the loop for the previously selected number of generations.\n",
    "    \n",
    "    fitness_vector = C()\n",
    "    # Assign the fitness vector to be the list of the fitness values and different individuals.\n",
    "    \n",
    "    survivors = np.zeros((num_survivors, chromosome_length))\n",
    "    # New array of survivals, currently filled with zeros.\n",
    "    # Since,chromosome length is 2, we will have 2 columns and the num_survivors will fill the cells.\n",
    "    \n",
    "    for n in range(len(survivors)):\n",
    "    # For the indices in the survivors' array.\n",
    "    \n",
    "        survivors[n] = D()\n",
    "        # Each survivor integer's assigned to the index of best fitness value.\n",
    "        \n",
    "    new_population[:len(survivors)] = survivors\n",
    "    # New population from 0 to the entire length of survivors, we will call that survivors.\n",
    "    \n",
    "    new_population[len(survivors):] = E()\n",
    "    # From the length of survivors onwards, this will be in the duplicate survivors.\n",
    "    \n",
    "    new_population = F(new_population)\n",
    "    # Uses the mutation function to tweak some randomly selected candidate solutions.\n",
    "    \n",
    "    current_pop = new_population\n",
    "    # Copies the next generation population in the array for the current population.\n",
    "    \n",
    "    new_population = np.zeros((num_survivors * 5, chromosome_length))\n",
    "    # Changes the next generation population with 0\n",
    "    # to make it ready to store next generations.\n",
    "\n",
    "fitness_vector = C()\n",
    "# Creates the array of fitness value of the last generation.\n",
    "\n",
    "best_solution = current_pop[np.argmin(fitness_vector[:,1])]\n",
    "# The best solution is the value of the current population,\n",
    "# for which fitness value is the minimum.\n",
    "\n",
    "print(\"The best solution is\", best_solution)\n",
    "# Printing the best solution for (m, b)\n",
    "\n",
    "print(\"with error equal to approximately\", B(best_solution))\n",
    "# Printing the SSE/n from the best solution."
   ]
  },
  {
   "cell_type": "markdown",
   "metadata": {
    "colab_type": "text",
    "id": "bud3Sc2Bi9pv"
   },
   "source": [
    "This is the main program which will make use of the previous functions by connecting them to complete the genetic algorithm. The output of this function is the best solution which correspond to $(m, b)$ in the equation of the best fit line $y=mx+b$. After every fuction from A to F has run the main program uses them to finally produce the best solution. At first, it generates an initial population using Function A and keeps it in _current population_. It then generates another empty array named _new population_ for storing the next generations. After that, it starts a loop which will be iterated for the pre-defined number of generations. In each iteration, it creates an array of the fitness values for each candidate solution of the current population according to their indexes. It creates an empty array to store the survivors then select each survivor one by one by repeatedly using function D. Function D compares some randomly selected values of the fitness value array and returns the candidate solution corresponding the least fitness value among them. Then it stores the survivor candidates in the new population and fills the other spaces using the duplicate of survivors generated by function E. Then it mutates some random value using function F. After reaching the predefined generation, the loop terminates. It calculates the fitness values of the last generation and outputs the best fitted candidate solution with its error."
   ]
  },
  {
   "cell_type": "markdown",
   "metadata": {},
   "source": [
    "### COMPARISON"
   ]
  },
  {
   "cell_type": "code",
   "execution_count": 69,
   "metadata": {
    "colab": {},
    "colab_type": "code",
    "id": "0StffJhLi9px"
   },
   "outputs": [
    {
     "name": "stdout",
     "output_type": "stream",
     "text": [
      "(0.5399259393210745, 70.70997220684585)\n"
     ]
    }
   ],
   "source": [
    "# This line of code uses scipy regression function to compare with the genetic algorithm's solutions.\n",
    "from scipy import stats\n",
    "print(stats.linregress(data)[0:2])"
   ]
  },
  {
   "cell_type": "markdown",
   "metadata": {
    "colab_type": "text",
    "id": "bud3Sc2Bi9pv"
   },
   "source": [
    "This allows us to compare the generated best solution with the main program with the actual solution set which in this case is (0.54, 70.71) when rounded to two decimal values."
   ]
  },
  {
   "cell_type": "markdown",
   "metadata": {},
   "source": [
    "<div class=\"alert alert-block alert-warning\">\n",
    "<b>2. Function Overview</b> \n",
    "</div>"
   ]
  },
  {
   "cell_type": "markdown",
   "metadata": {
    "colab_type": "text",
    "id": "2r8WRqUvi9pP"
   },
   "source": [
    "##### 2.1. Importance of Parameter Values\n",
    "- The parameters at the top of the script are variables that can be assigned different values in order to run through the genetic algorithm. The parameter **initial_pop_size** is the initial population size which in genetic algorithms, is where we select the population of possible solutions. The parameter **mutation_rate** is how much of the population we will mutate. Mutating a high value like means that we will loose even the most fit values. The parameter **num_generations** is how many times this process will be repeated and how many generations we want to determine a solution. The parameter **chromosome_length** is the number of elements in one candidate solution. Here we want to determine two elements: the $slope$, and the $y-intercept$. Our chromosome length is 2 and we cannot change it in this problem. The parameter **num_survivors** is the number of candidate solution we want to select for our next generation based on their fitness value. Through experimentation with varying parameter values, I determined that the values that produce solutions that are closest to the actual solution most efficiently are the following: **initial_pop_size** $= 1,000$, **mutation_rate** $= 0.30$, **num_generations** $= 10$, **chromosome_length** $= 2$, **num_survivors** $= 200$. I think this happens because the initial population size, mutation rate, and number of survivors parameters are moderately large as expected. The number of generations is not as high because the solution doesn't change after the $4th$ or $5th$ iteration.\n",
    "\n",
    "##### 2.2. Program Overview\n",
    "- The following is an overview of how this program solves the given task by achieving different things. The output of this program represents an array that consists of the optimal value of the $slope$ and $y-intercepts$. It also, prints the error value of that solution. This program covers all the steps that one finds and goes through in the genetic algorithm to identify variables that will be the most useful for an accurate regression model. In order to determine what is the most useful, that is where the objective function is helpful to identify whether we want to either maximize or minimize it. In this case, the error in the regression model should be minimized. This explains the concept of the fitness value that we identified in the code, where we have the fitness value of each of the candidate solutions. Hence, individuals with the lowest fitness values are the most accurate for the model."
   ]
  },
  {
   "cell_type": "markdown",
   "metadata": {},
   "source": [
    "<div class=\"alert alert-block alert-danger\">\n",
    "<b>END OF PART I</b> \n",
    "</div>"
   ]
  },
  {
   "cell_type": "markdown",
   "metadata": {
    "colab_type": "text",
    "id": "xaerXUudi9pO"
   },
   "source": [
    "<div class=\"alert alert-block alert-success\">\n",
    "<b> <font size=\"5\">Part II: Lotka-Volterra Simulation</font></b> \n",
    "</div>"
   ]
  },
  {
   "cell_type": "markdown",
   "metadata": {
    "colab_type": "text",
    "id": "08MD-DVzi9qA"
   },
   "source": [
    "In this portion of the assignment, I produced code that uses Euler’s method to implement a simulation of the solutions of the Lotka-Volterra equations. In addition to providing more practice in Python programming, this project challenged me to understand numerical methods for solving differential equations, which lead to a deeper understanding of these models."
   ]
  },
  {
   "cell_type": "markdown",
   "metadata": {},
   "source": [
    "<div class=\"alert alert-block alert-warning\">\n",
    "<b>1. Simulation Code</b> \n",
    "</div>"
   ]
  },
  {
   "cell_type": "markdown",
   "metadata": {
    "colab_type": "text",
    "id": "JqPEjbSwi9qA"
   },
   "source": [
    "The following code inputs the initial ($t=0$) populations for predator and prey, parameter values, desired final output time, and time-step size ($h$), and outputs graphs of both predator and prey populations at each time-step on the same plot; final predicted population sizes for both predator and prey. I wrote comments for each defined function, specifying inputs and outputs, along with a brief description of what the function does. I also considered my initial parameter inputs, explained how the result changes as the initial parameters vary, found a set of initial parameters that produced stable cyclic population dynamics, and explained the significance of this."
   ]
  },
  {
   "cell_type": "code",
   "execution_count": 70,
   "metadata": {
    "colab": {},
    "colab_type": "code",
    "id": "D5Jdco2ti9qC"
   },
   "outputs": [
    {
     "data": {
      "image/png": "[encoded data removed]",
      "text/plain": [
       "<Figure size 432x288 with 1 Axes>"
      ]
     },
     "metadata": {
      "needs_background": "light"
     },
     "output_type": "display_data"
    }
   ],
   "source": [
    "import numpy as np\n",
    "import matplotlib.pyplot as plt\n",
    "\n",
    "#Lotka-Voltera Equations:\n",
    "#dx/dt = (a*x) - (b*x*y)\n",
    "#dy/dt = (-c*y) + (d*x*y)\n",
    "\n",
    "#Parameters\n",
    "a = 0.4\n",
    "b = 0.005\n",
    "c = 0.3\n",
    "d = 0.004\n",
    "h = 0.01 #time step size: the smaller the better\n",
    "\n",
    "\n",
    "#Creating lists of values. The stored values will be plotted\n",
    "t_list = [0] #create a list to store the t-values\n",
    "\n",
    "prey =[150] #create a list to store all values of prey population\n",
    "\n",
    "predator = [100] #create a list to store all values of predator population\n",
    "\n",
    "for i in range (0,10000):\n",
    "\n",
    "    y = predator[-1] #identifying the current predator population\n",
    "    x = prey[-1] #identifying the current prey population\n",
    "    t = t_list[-1] #identifying the current time\n",
    "    t_next = t + h #adding the next time to the step size\n",
    "    y_next = (y + (((-c*y) + (d*x*y)) * h)) #formula for calculating the next predator population\n",
    "    x_next = (x + (((a*x) - (b*x*y)) * h)) #formula for calculating the next prey population\n",
    "    t_list.append(t_next) #after getting a new t, updating the list by adding the new value\n",
    "    prey.append(x_next) #updating the prey population, adding the new value\n",
    "    predator.append(y_next) #updating the predator population by adding the new value\n",
    "\n",
    "# print(predator)\n",
    "\n",
    "\n",
    "import matplotlib.pyplot as plt #importing a useful library in plotting\n",
    "\n",
    "plt.plot(t_list, predator, label='Predator')\n",
    "#the first y-variable, predators, plotted with respect to t.\n",
    "#I put color blue to make it distinct from the prey curve line\n",
    "\n",
    "plt.plot(t_list, prey, label='Prey')\n",
    "#the second y-variable, prey population, to be plotted.\n",
    "#I put color orange so that I see which of the curves shows the prey population trends\n",
    "#dataviz: inserting labels and title for an observer to know what the plot represents.\n",
    "\n",
    "plt.legend()\n",
    "plt.xlabel('Time')\n",
    "plt.ylabel('Population')\n",
    "plt.title('Prey and Predator Population Trends')\n",
    "plt.show()"
   ]
  },
  {
   "cell_type": "markdown",
   "metadata": {},
   "source": [
    "<div class=\"alert alert-block alert-warning\">\n",
    "<b>2. Simulation Analysis</b> \n",
    "</div>"
   ]
  },
  {
   "cell_type": "markdown",
   "metadata": {
    "colab_type": "text",
    "id": "rP3dQlgDi9qF"
   },
   "source": [
    "This simulation is quite intricate. It has many similarities and differences with the NetLogo Wolf Sheep Predation model from class. My simulation contrasts with an analytical approach to deriving the implications of the Lotka-Volterra model by making numerical calculations. There are some differences between the Lotka-Volterra model and my simulation. For example, the Lotka-Volterra model is continuos and the simulation here is discrete. This is because for each time point, we have the relevant and correspondent prey and predator population. Every plotted data point is connected to the next one by using a curve line. This is different from the Lotka-Voltera which is a continuous model since the solutions to differential equations are multiple functions and allows to determine the population at any given time. The NetLogo simulation is stochastic. This is because of the randomness in the prey and predator population trends and their movements. \n",
    "\n",
    "The above simulation is deterministic. This is in function form, one value has just one other corresponding value so there is no randomness in the results or values that we obtain and this is what deterministic solutions portray. The main assumptions in the above model can be seen through the formula. The causes of death, we see that in the rate at which the change in prey population is happening only decreaseses when the prey interact with the predator. There are multiple conditions that might make the prey population decrease such as climate change. In the rate of change of the predator population which is only reduced by one we see a similar scenario. In the second equation we are also making the assumption that the predator population only increases when they feed on the prey. Which is not necessarily true because there are multiple reasons and ways through which the predator population could increase. For instance, if there is reproduction the population is eventually going to increase. However, it does not take this into consideration, making this assumption one of the inherent weakness of the function."
   ]
  },
  {
   "cell_type": "markdown",
   "metadata": {},
   "source": [
    "<div class=\"alert alert-block alert-danger\">\n",
    "<b>END OF PART II</b> \n",
    "</div>"
   ]
  },
  {
   "cell_type": "markdown",
   "metadata": {
    "colab_type": "text",
    "id": "xaerXUudi9pO"
   },
   "source": [
    "<div class=\"alert alert-block alert-success\">\n",
    "<b> <font size=\"5\">Part III: Reflection</font></b> \n",
    "</div>"
   ]
  },
  {
   "cell_type": "markdown",
   "metadata": {
    "colab_type": "text",
    "id": "DWKMQQY_i9qN"
   },
   "source": [
    "To complete the assignment, I obtained the knowledge from the readings and classes through distributive practice.$^1$ The readings from both session 5.2 and 7.1 were particularly helpful to further understand the concepts.  Specific individuals and groups that helped me where Prof. Albrecht and Prof. Richard who both helped me by challenging me during class and office hours to engage in programming, statistics, algorithms, and simulation. Strategies that I used to assess my own understanding of the material where different science of learning techniques.$^2$ I read from the tutorials of the genetic algorithms, and used the Wikipedia readings for the Lotka-Volterra model. I used a CSS code found in stackoverflow (Aquagremlin, 2015) to change the font, color, size, and style of the notebook.\n",
    "\n",
    "\n",
    "\n",
    "**___** **___** **___** **___** **___** **___**\n",
    "\n",
    "<font size=\"3\">$^1$ #selfawareness: The first part of this assignment challenged me by allowing me to understand what each individual function does for the genetic algorithm. Using appropriate resources like readings, classes, and further research helped me craft a well-written description of the algorithm. In the second part of the assignment, I was able to understand what each part of the Lotka-Volterra model does and was in better position to use online research more effectively. For things that I did not know how to write python code for, I resorted to the use of resources like stackoverflow.</font>\n",
    "\n",
    "<font size=\"3\">$^2$ #professionalism: A particularly novel way that I applied professionalism while solving problems that seemed challenging was to reach out to classmates. For instance, on the Lotka Voltera model, I reached out to classmates that continuously prompted me to think what I needed to do. I made errors along the way but they helped me realize the errors that I had made.</font>"
   ]
  },
  {
   "cell_type": "markdown",
   "metadata": {},
   "source": [
    "<div class=\"alert alert-block alert-danger\">\n",
    "<b>END OF PART III</b> \n",
    "</div>"
   ]
  },
  {
   "cell_type": "markdown",
   "metadata": {
    "colab_type": "text",
    "id": "xaerXUudi9pO"
   },
   "source": [
    "<div class=\"alert alert-block alert-success\">\n",
    "<b> <font size=\"5\">Part IV: References</font></b> \n",
    "</div>"
   ]
  },
  {
   "cell_type": "markdown",
   "metadata": {},
   "source": [
    "Aquagremlin. (2015). How to change the font size and color of markdown cell in Ipython (py 2.7) notebook. Retrieved from https://stackoverflow.com/questions/34303422/how-to-change-the-font-size-and-color-of-markdown-cell-in-ipython-py-2-7-noteb\n",
    "\n",
    "Lotka–Volterra equations. (n.d.). In Wikipedia, The Free Encyclopedia. Retrieved from https://en.wikipedia.org/wiki/Lotka%E2%80%93Volterra_equations\n",
    "\n",
    "M. Beals, L. Gross, & S. Harrell. (1999). Predator-prey Dynamics: Lotka-Volterra. Retrieved from http://www.tiem.utk.edu/~gross/bioed/bealsmodules/predator-prey.html\n",
    "\n",
    "TutorialsPoint. (2017). Genetic Algorithms. Retrieved from https://www.tutorialspoint.com/genetic_algorithms/genetic_algorithms_introduction.htm\n",
    "\n",
    "Wilensky, U. (1997). NetLogo Models Library: Wolf Sheep Predation. Retrieved from http://ccl.northwestern.edu/netlogo/models/WolfSheepPredation"
   ]
  },
  {
   "cell_type": "markdown",
   "metadata": {},
   "source": [
    "<div class=\"alert alert-block alert-danger\">\n",
    "<b>END OF PART IV</b> \n",
    "</div>"
   ]
  },
  {
   "cell_type": "markdown",
   "metadata": {
    "colab_type": "text",
    "id": "xaerXUudi9pO"
   },
   "source": [
    "<div class=\"alert alert-block alert-success\">\n",
    "<b> <font size=\"5\">Part V: Format and Style</font></b> \n",
    "</div>"
   ]
  },
  {
   "cell_type": "code",
   "execution_count": 39,
   "metadata": {},
   "outputs": [
    {
     "data": {
      "text/html": [
       "\n",
       "<style>\n",
       "\n",
       "div.cell { /* Tunes the space between cells */\n",
       "margin-top:1em;\n",
       "margin-bottom:1em;\n",
       "}\n",
       "\n",
       "div.text_cell_render h1 { /* Main titles bigger, centered */\n",
       "font-size: 2.2em;\n",
       "line-height:1.4em;\n",
       "text-align:center;\n",
       "}\n",
       "\n",
       "div.text_cell_render h2 { /*  Parts names nearer from text */\n",
       "margin-bottom: -0.4em;\n",
       "}\n",
       "\n",
       "\n",
       "div.text_cell_render { /* Customize text cells */\n",
       "font-family: 'Times New Roman';\n",
       "font-size:1.5em;\n",
       "line-height:1.4em;\n",
       "padding-left:3em;\n",
       "padding-right:3em;\n",
       "}\n",
       "</style>\n"
      ],
      "text/plain": [
       "<IPython.core.display.HTML object>"
      ]
     },
     "execution_count": 39,
     "metadata": {},
     "output_type": "execute_result"
    }
   ],
   "source": [
    "from IPython.core.display import HTML\n",
    "HTML(\"\"\"\n",
    "<style>\n",
    "\n",
    "div.cell { /* Tunes the space between cells */\n",
    "margin-top:1em;\n",
    "margin-bottom:1em;\n",
    "}\n",
    "\n",
    "div.text_cell_render h1 { /* Main titles bigger, centered */\n",
    "font-size: 2.2em;\n",
    "line-height:1.4em;\n",
    "text-align:center;\n",
    "}\n",
    "\n",
    "div.text_cell_render h2 { /*  Parts names nearer from text */\n",
    "margin-bottom: -0.4em;\n",
    "}\n",
    "\n",
    "\n",
    "div.text_cell_render { /* Customize text cells */\n",
    "font-family: 'Times New Roman';\n",
    "font-size:1.5em;\n",
    "line-height:1.4em;\n",
    "padding-left:3em;\n",
    "padding-right:3em;\n",
    "}\n",
    "</style>\n",
    "\"\"\")\n"
   ]
  },
  {
   "cell_type": "markdown",
   "metadata": {},
   "source": [
    "<div class=\"alert alert-block alert-danger\">\n",
    "<b>END OF PART V</b> \n",
    "</div>"
   ]
  }
 ],
 "metadata": {
  "colab": {
   "name": "Assignment 2 Algorithms and Simulation Spring 2019 Notebook.ipynb",
   "provenance": [],
   "version": "0.3.2"
  },
  "kernelspec": {
   "display_name": "Python 3",
   "language": "python",
   "name": "python3"
  },
  "language_info": {
   "codemirror_mode": {
    "name": "ipython",
    "version": 3
   },
   "file_extension": ".py",
   "mimetype": "text/x-python",
   "name": "python",
   "nbconvert_exporter": "python",
   "pygments_lexer": "ipython3",
   "version": "3.7.1"
  }
 },
 "nbformat": 4,
 "nbformat_minor": 1
}
